{
  "nbformat": 4,
  "nbformat_minor": 0,
  "metadata": {
    "colab": {
      "provenance": [],
      "authorship_tag": "ABX9TyMgkbLVqTJ8PCbzbPCjNQXX",
      "include_colab_link": true
    },
    "kernelspec": {
      "name": "python3",
      "display_name": "Python 3"
    },
    "language_info": {
      "name": "python"
    }
  },
  "cells": [
    {
      "cell_type": "markdown",
      "metadata": {
        "id": "view-in-github",
        "colab_type": "text"
      },
      "source": [
        "<a href=\"https://colab.research.google.com/github/AmalPramod/Introduction-to-Deep-Learning/blob/main/Convolutional_neural_Network.ipynb\" target=\"_parent\"><img src=\"https://colab.research.google.com/assets/colab-badge.svg\" alt=\"Open In Colab\"/></a>"
      ]
    },
    {
      "cell_type": "code",
      "execution_count": 10,
      "metadata": {
        "id": "GooW9xyeUQ3_"
      },
      "outputs": [],
      "source": [
        "#importing tensorflow and keras API\n",
        "import tensorflow as tf\n",
        "from tensorflow.keras import layers , models\n",
        "from tensorflow.keras.datasets import cifar10\n",
        "from tensorflow.keras.utils import to_categorical"
      ]
    },
    {
      "cell_type": "code",
      "source": [
        "# data pre-processing\n",
        "(x_train , y_train), (x_test, y_test) = cifar10.load_data()\n",
        "x_train = x_train/255 #normalize datasets to be in between 0 and 1\n",
        "x_test = x_test/255\n",
        "y_train = to_categorical(y_train, 10)#one-hot encode labels\n",
        "y_test = to_categorical(y_test , 10)"
      ],
      "metadata": {
        "id": "Td2zuH3mUz32"
      },
      "execution_count": 11,
      "outputs": []
    },
    {
      "cell_type": "code",
      "source": [
        "model = models.Sequential([\n",
        "    tf.keras.layers.Conv2D(32,(3,3),activation = 'relu', input_shape=(32,32,3)),\n",
        "tf.keras.layers.MaxPool2D((2,2)),\n",
        "tf.keras.layers.Conv2D(32,(3,3), activation = 'relu'),\n",
        "tf.keras.layers.MaxPool2D((2,2)),\n",
        "tf.keras.layers.Conv2D(32, (3,3) , activation ='relu', input_shape=(32,32,3)),\n",
        "\n",
        "tf.keras.layers.Flatten() ,\n",
        "tf.keras.layers.Dense(64, activation= 'relu'),\n",
        "tf.keras.layers.Dense(10 , activation = 'softmax')\n",
        "\n",
        "\n",
        "    ])"
      ],
      "metadata": {
        "id": "RcXi84S5YT1J"
      },
      "execution_count": 15,
      "outputs": []
    },
    {
      "cell_type": "code",
      "source": [
        "model.compile(optimizer = 'adam' ,\n",
        "              loss    = 'categorical_crossentropy' ,\n",
        "              metrics = ['accuracy'])"
      ],
      "metadata": {
        "id": "KBzAjhCJjgkt"
      },
      "execution_count": 16,
      "outputs": []
    },
    {
      "cell_type": "code",
      "source": [
        "model.fit(x_train , y_train , epochs =10 , validation_data=(x_test , y_test))"
      ],
      "metadata": {
        "colab": {
          "base_uri": "https://localhost:8080/"
        },
        "id": "GzBN5NeZjgvX",
        "outputId": "776a4865-752e-4c9a-9091-3a6d7a3abd14"
      },
      "execution_count": 17,
      "outputs": [
        {
          "output_type": "stream",
          "name": "stdout",
          "text": [
            "Epoch 1/10\n",
            "1563/1563 [==============================] - 52s 32ms/step - loss: 1.5603 - accuracy: 0.4294 - val_loss: 1.4147 - val_accuracy: 0.4852\n",
            "Epoch 2/10\n",
            "1563/1563 [==============================] - 49s 32ms/step - loss: 1.2338 - accuracy: 0.5599 - val_loss: 1.1634 - val_accuracy: 0.5823\n",
            "Epoch 3/10\n",
            "1563/1563 [==============================] - 51s 33ms/step - loss: 1.1032 - accuracy: 0.6100 - val_loss: 1.1598 - val_accuracy: 0.5867\n",
            "Epoch 4/10\n",
            "1563/1563 [==============================] - 48s 31ms/step - loss: 1.0173 - accuracy: 0.6421 - val_loss: 1.0393 - val_accuracy: 0.6272\n",
            "Epoch 5/10\n",
            "1563/1563 [==============================] - 51s 33ms/step - loss: 0.9514 - accuracy: 0.6638 - val_loss: 0.9654 - val_accuracy: 0.6568\n",
            "Epoch 6/10\n",
            "1563/1563 [==============================] - 48s 30ms/step - loss: 0.9030 - accuracy: 0.6808 - val_loss: 0.9567 - val_accuracy: 0.6729\n",
            "Epoch 7/10\n",
            "1563/1563 [==============================] - 49s 31ms/step - loss: 0.8547 - accuracy: 0.6996 - val_loss: 0.9195 - val_accuracy: 0.6796\n",
            "Epoch 8/10\n",
            "1563/1563 [==============================] - 51s 32ms/step - loss: 0.8207 - accuracy: 0.7074 - val_loss: 0.9300 - val_accuracy: 0.6782\n",
            "Epoch 9/10\n",
            "1563/1563 [==============================] - 48s 31ms/step - loss: 0.7888 - accuracy: 0.7215 - val_loss: 0.9054 - val_accuracy: 0.6907\n",
            "Epoch 10/10\n",
            "1563/1563 [==============================] - 49s 31ms/step - loss: 0.7611 - accuracy: 0.7300 - val_loss: 0.9123 - val_accuracy: 0.6871\n"
          ]
        },
        {
          "output_type": "execute_result",
          "data": {
            "text/plain": [
              "<keras.src.callbacks.History at 0x7b5c3b0d3f40>"
            ]
          },
          "metadata": {},
          "execution_count": 17
        }
      ]
    },
    {
      "cell_type": "code",
      "source": [
        "test_loss , test_acc = model.evaluate(x_test , y_test)\n",
        "print(f'test Accuracy = {test_acc*100:.2f}%')"
      ],
      "metadata": {
        "colab": {
          "base_uri": "https://localhost:8080/"
        },
        "id": "k13dT0Lljgx-",
        "outputId": "4804dc95-ed15-4369-da6c-7f1a61a5d9da"
      },
      "execution_count": 19,
      "outputs": [
        {
          "output_type": "stream",
          "name": "stdout",
          "text": [
            "313/313 [==============================] - 3s 9ms/step - loss: 0.9123 - accuracy: 0.6871\n",
            "test Accuracy = 68.71%\n"
          ]
        }
      ]
    },
    {
      "cell_type": "code",
      "source": [],
      "metadata": {
        "id": "o5Mx6YfLjg0W"
      },
      "execution_count": null,
      "outputs": []
    },
    {
      "cell_type": "code",
      "source": [],
      "metadata": {
        "id": "9_B_bn4rjg29"
      },
      "execution_count": null,
      "outputs": []
    },
    {
      "cell_type": "code",
      "source": [],
      "metadata": {
        "id": "Ldu90SNHjg6a"
      },
      "execution_count": null,
      "outputs": []
    }
  ]
}