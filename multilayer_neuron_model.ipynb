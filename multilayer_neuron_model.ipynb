{
  "nbformat": 4,
  "nbformat_minor": 0,
  "metadata": {
    "colab": {
      "provenance": [],
      "gpuType": "T4",
      "authorship_tag": "ABX9TyPZMmDCEYyK+0vC/iBBomiK",
      "include_colab_link": true
    },
    "kernelspec": {
      "name": "python3",
      "display_name": "Python 3"
    },
    "language_info": {
      "name": "python"
    },
    "accelerator": "GPU"
  },
  "cells": [
    {
      "cell_type": "markdown",
      "metadata": {
        "id": "view-in-github",
        "colab_type": "text"
      },
      "source": [
        "<a href=\"https://colab.research.google.com/github/AmalPramod/Introduction-to-Deep-Learning/blob/main/multilayer_neuron_model.ipynb\" target=\"_parent\"><img src=\"https://colab.research.google.com/assets/colab-badge.svg\" alt=\"Open In Colab\"/></a>"
      ]
    },
    {
      "cell_type": "code",
      "execution_count": 41,
      "metadata": {
        "id": "IQTKEU9namlW"
      },
      "outputs": [],
      "source": [
        "#initialization\n",
        "import tensorflow as tf\n",
        "import matplotlib.pyplot as plt\n",
        "import numpy as np\n",
        "from tensorflow import keras\n",
        "from keras.datasets import mnist\n",
        "from keras.utils import to_categorical"
      ]
    },
    {
      "cell_type": "code",
      "source": [
        "#preprocessing\n",
        "(x_train, y_train), (x_test, y_test) = mnist.load_data()\n",
        "x_train, x_test = x_train / 255.0, x_test / 255.0\n",
        "#flatting the dataset to compute for model building\n",
        "x_train_flatten = x_train.reshape(len(x_train),28*28)\n",
        "x_test_flatten = x_test.reshape(len(x_test),28*28)\n",
        "\n",
        "#one-hot encode the labels\n",
        "y_train_encoded = to_categorical(y_train , num_classes=10)\n",
        "y_test_encoded = to_categorical(y_test , num_classes=10)\n",
        "\n"
      ],
      "metadata": {
        "id": "5GrX4gClausV"
      },
      "execution_count": 42,
      "outputs": []
    },
    {
      "cell_type": "code",
      "source": [
        "#Model_2 neurons = 30\n",
        "model_2 = keras.Sequential([\n",
        "    keras.layers.Flatten(input_shape=(784,)),\n",
        "    keras.layers.Dense(128, activation='relu'),\n",
        "    keras.layers.Dense(10, activation='softmax')\n",
        "])\n"
      ],
      "metadata": {
        "id": "Se6kScN7auu0"
      },
      "execution_count": 43,
      "outputs": []
    },
    {
      "cell_type": "code",
      "source": [
        "#model compilation learnng_rate =0.1\n",
        "model_2.compile(optimizer=tf.keras.optimizers.Adam(learning_rate=0.001),\n",
        "                loss='categorical_crossentropy',\n",
        "                metrics=['accuracy'])\n"
      ],
      "metadata": {
        "id": "gW_NUBXfauxW"
      },
      "execution_count": 44,
      "outputs": []
    },
    {
      "cell_type": "code",
      "source": [
        " #batch_size = 16 , epochs = 30\n",
        "model_2.fit(x_train_flatten,y_train_encoded,epochs=10,batch_size=16,verbose=2)\n",
        "test_loss , test_acc = model_2.evaluate(x_test_flatten,y_test_encoded)\n",
        "print('test accuracy =',test_acc)"
      ],
      "metadata": {
        "colab": {
          "base_uri": "https://localhost:8080/"
        },
        "id": "1y5x60nNauzr",
        "outputId": "4e06d25d-f76c-4d4e-a25e-20689ab3d6cb"
      },
      "execution_count": 45,
      "outputs": [
        {
          "output_type": "stream",
          "name": "stdout",
          "text": [
            "Epoch 1/10\n",
            "3750/3750 - 9s - loss: 0.2325 - accuracy: 0.9324 - 9s/epoch - 2ms/step\n",
            "Epoch 2/10\n",
            "3750/3750 - 7s - loss: 0.1023 - accuracy: 0.9693 - 7s/epoch - 2ms/step\n",
            "Epoch 3/10\n",
            "3750/3750 - 8s - loss: 0.0708 - accuracy: 0.9781 - 8s/epoch - 2ms/step\n",
            "Epoch 4/10\n",
            "3750/3750 - 8s - loss: 0.0511 - accuracy: 0.9840 - 8s/epoch - 2ms/step\n",
            "Epoch 5/10\n",
            "3750/3750 - 8s - loss: 0.0402 - accuracy: 0.9872 - 8s/epoch - 2ms/step\n",
            "Epoch 6/10\n",
            "3750/3750 - 8s - loss: 0.0322 - accuracy: 0.9893 - 8s/epoch - 2ms/step\n",
            "Epoch 7/10\n",
            "3750/3750 - 7s - loss: 0.0251 - accuracy: 0.9913 - 7s/epoch - 2ms/step\n",
            "Epoch 8/10\n",
            "3750/3750 - 8s - loss: 0.0211 - accuracy: 0.9930 - 8s/epoch - 2ms/step\n",
            "Epoch 9/10\n",
            "3750/3750 - 8s - loss: 0.0180 - accuracy: 0.9940 - 8s/epoch - 2ms/step\n",
            "Epoch 10/10\n",
            "3750/3750 - 7s - loss: 0.0150 - accuracy: 0.9947 - 7s/epoch - 2ms/step\n",
            "313/313 [==============================] - 1s 2ms/step - loss: 0.0906 - accuracy: 0.9785\n",
            "test accuracy = 0.9785000085830688\n"
          ]
        }
      ]
    },
    {
      "cell_type": "code",
      "source": [],
      "metadata": {
        "id": "jHNyVB--au18"
      },
      "execution_count": null,
      "outputs": []
    },
    {
      "cell_type": "code",
      "source": [],
      "metadata": {
        "id": "wGu4DVEMau4T"
      },
      "execution_count": null,
      "outputs": []
    },
    {
      "cell_type": "code",
      "source": [],
      "metadata": {
        "id": "1bMjSmNNau6l"
      },
      "execution_count": null,
      "outputs": []
    },
    {
      "cell_type": "code",
      "source": [],
      "metadata": {
        "id": "eo1sQnHtau9D"
      },
      "execution_count": null,
      "outputs": []
    },
    {
      "cell_type": "code",
      "source": [],
      "metadata": {
        "id": "_fj0W5_uau_k"
      },
      "execution_count": null,
      "outputs": []
    },
    {
      "cell_type": "code",
      "source": [],
      "metadata": {
        "id": "aAeJDYE_avC8"
      },
      "execution_count": null,
      "outputs": []
    },
    {
      "cell_type": "code",
      "source": [],
      "metadata": {
        "id": "a4Dy4Xz6avQY"
      },
      "execution_count": null,
      "outputs": []
    },
    {
      "cell_type": "code",
      "source": [],
      "metadata": {
        "id": "s_fGP6WYavSi"
      },
      "execution_count": null,
      "outputs": []
    },
    {
      "cell_type": "code",
      "source": [],
      "metadata": {
        "id": "_ku7B4SNavV4"
      },
      "execution_count": null,
      "outputs": []
    },
    {
      "cell_type": "code",
      "source": [],
      "metadata": {
        "id": "JjZcSOYQavup"
      },
      "execution_count": null,
      "outputs": []
    },
    {
      "cell_type": "code",
      "source": [],
      "metadata": {
        "id": "ZW34BGRlavxM"
      },
      "execution_count": null,
      "outputs": []
    },
    {
      "cell_type": "code",
      "source": [],
      "metadata": {
        "id": "GVVhjtp-av0q"
      },
      "execution_count": null,
      "outputs": []
    }
  ]
}